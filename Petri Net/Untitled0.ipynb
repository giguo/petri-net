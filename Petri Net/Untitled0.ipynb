{
 "metadata": {
  "name": "",
  "signature": "sha256:d36fffb15104d934a438a77741d1e63ef2a7f0e80b201fc4642d6ff46e9c46c2"
 },
 "nbformat": 3,
 "nbformat_minor": 0,
 "worksheets": [
  {
   "cells": [
    {
     "cell_type": "code",
     "collapsed": false,
     "input": [
      "import ConfigParser\n",
      "config = ConfigParser.ConfigParser()\n",
      "config.read(\"config\")\n",
      "def getvalue(config, name, type):\n",
      "        k = config.get(name, type)\n",
      "        if ':' in k:\n",
      "                tmp = []\n",
      "                for i in k.split(':'):\n",
      "                    tmp.append(int(i))\n",
      "                return tmp\n",
      "        else:\n",
      "                return int(k)"
     ],
     "language": "python",
     "metadata": {},
     "outputs": [],
     "prompt_number": 1
    }
   ],
   "metadata": {}
  }
 ]
}